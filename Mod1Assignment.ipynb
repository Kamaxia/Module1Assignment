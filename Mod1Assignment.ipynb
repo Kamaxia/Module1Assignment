{
 "cells": [
  {
   "cell_type": "code",
   "execution_count": 3,
   "id": "dc5ce4cd-4a12-4ff6-b490-8b199112083e",
   "metadata": {},
   "outputs": [
    {
     "name": "stdout",
     "output_type": "stream",
     "text": [
      "3600\n"
     ]
    }
   ],
   "source": [
    "seconds_in_minute = 60\n",
    "minutes_in_hour = 60\n",
    "seconds_per_hours = seconds_in_minute * minutes_in_hour\n",
    "print(seconds_per_hours)"
   ]
  },
  {
   "cell_type": "code",
   "execution_count": 7,
   "id": "2ffa5a77-d7e3-40b9-b187-71ba381a9466",
   "metadata": {},
   "outputs": [
    {
     "name": "stdout",
     "output_type": "stream",
     "text": [
      "3600\n",
      "86400\n"
     ]
    }
   ],
   "source": [
    "seconds_per_hours = 60 * 60\n",
    "print(seconds_per_hours)\n",
    "seconds_per_day = seconds_per_hours * 24\n",
    "print(seconds_per_day)"
   ]
  },
  {
   "cell_type": "code",
   "execution_count": 11,
   "id": "3f778b36-9027-4f60-a504-c003930e2654",
   "metadata": {},
   "outputs": [
    {
     "name": "stdout",
     "output_type": "stream",
     "text": [
      "3600\n",
      "86400\n",
      "24.0\n"
     ]
    }
   ],
   "source": [
    "seconds_per_hours = 60 * 60\n",
    "print(seconds_per_hours)\n",
    "seconds_per_day = seconds_per_hours * 24\n",
    "print(seconds_per_day)\n",
    "print(float(seconds_per_day / seconds_per_hours))"
   ]
  },
  {
   "cell_type": "code",
   "execution_count": null,
   "id": "dcb7fa2f-ee27-476d-a4ae-499506a4d7c8",
   "metadata": {},
   "outputs": [],
   "source": [
    "seconds_per_hours = 60 * 60\n",
    "print(seconds_per_hours)\n",
    "seconds_per_day = seconds_per_hours * 24\n",
    "print(seconds_per_day)\n",
    "print(float(seconds_per_day / seconds_per_hours))"
   ]
  }
 ],
 "metadata": {
  "kernelspec": {
   "display_name": "Python 3 (ipykernel)",
   "language": "python",
   "name": "python3"
  },
  "language_info": {
   "codemirror_mode": {
    "name": "ipython",
    "version": 3
   },
   "file_extension": ".py",
   "mimetype": "text/x-python",
   "name": "python",
   "nbconvert_exporter": "python",
   "pygments_lexer": "ipython3",
   "version": "3.12.4"
  }
 },
 "nbformat": 4,
 "nbformat_minor": 5
}
